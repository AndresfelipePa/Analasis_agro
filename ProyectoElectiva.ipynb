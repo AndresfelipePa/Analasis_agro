{
  "nbformat": 4,
  "nbformat_minor": 0,
  "metadata": {
    "colab": {
      "provenance": [],
      "include_colab_link": true
    },
    "kernelspec": {
      "name": "ir",
      "display_name": "R"
    },
    "language_info": {
      "name": "R"
    }
  },
  "cells": [
    {
      "cell_type": "markdown",
      "metadata": {
        "id": "view-in-github",
        "colab_type": "text"
      },
      "source": [
        "<a href=\"https://colab.research.google.com/github/AndresfelipePa/Analasis_agro/blob/main/ProyectoElectiva.ipynb\" target=\"_parent\"><img src=\"https://colab.research.google.com/assets/colab-badge.svg\" alt=\"Open In Colab\"/></a>"
      ]
    },
    {
      "cell_type": "code",
      "source": [
        "agro <- read.csv('Evaluaciones_Agropecuarias_boyaca.csv')"
      ],
      "metadata": {
        "id": "a_sVDgU5IKR1",
        "outputId": "e14e1174-16cb-4af8-d3eb-6a137ba34b4b",
        "colab": {
          "base_uri": "https://localhost:8080/",
          "height": 193
        }
      },
      "execution_count": null,
      "outputs": [
        {
          "output_type": "stream",
          "name": "stderr",
          "text": [
            "Warning message in file(file, \"rt\"):\n",
            "“cannot open file 'Evaluaciones_Agropecuarias_boyaca.csv': No such file or directory”\n"
          ]
        },
        {
          "output_type": "error",
          "ename": "ERROR",
          "evalue": "Error in file(file, \"rt\"): cannot open the connection\n",
          "traceback": [
            "Error in file(file, \"rt\"): cannot open the connection\nTraceback:\n",
            "1. read.csv(\"Evaluaciones_Agropecuarias_boyaca.csv\")",
            "2. read.table(file = file, header = header, sep = sep, quote = quote, \n .     dec = dec, fill = fill, comment.char = comment.char, ...)",
            "3. file(file, \"rt\")"
          ]
        }
      ]
    },
    {
      "cell_type": "code",
      "source": [
        "View(agro)"
      ],
      "metadata": {
        "id": "kyNW6w9TPNlX"
      },
      "execution_count": null,
      "outputs": []
    },
    {
      "cell_type": "code",
      "source": [
        "summary(agro)"
      ],
      "metadata": {
        "colab": {
          "base_uri": "https://localhost:8080/",
          "height": 295
        },
        "id": "QDk1bd9KPkez",
        "outputId": "fb5d8120-89dd-4249-d4e9-c2828678758f"
      },
      "execution_count": null,
      "outputs": [
        {
          "output_type": "display_data",
          "data": {
            "text/plain": [
              "     TIPO            MUNICIPIO           CULTIVO            PERIODO         \n",
              " Length:23080       Length:23080       Length:23080       Length:23080      \n",
              " Class :character   Class :character   Class :character   Class :character  \n",
              " Mode  :character   Mode  :character   Mode  :character   Mode  :character  \n",
              "                                                                            \n",
              "                                                                            \n",
              "                                                                            \n",
              "                                                                            \n",
              " Area.Sembrada..ha. Area.Cosechada..ha. Produccion..t.   Rendimiento..t.ha.\n",
              " Min.   :   0.00    Min.   :   0.00     Min.   :     0   Min.   :  0.00    \n",
              " 1st Qu.:   5.00    1st Qu.:   4.50     1st Qu.:    14   1st Qu.:  1.40    \n",
              " Median :  15.00    Median :  13.00     Median :    58   Median :  5.00    \n",
              " Mean   :  77.16    Mean   :  53.01     Mean   :  1064   Mean   : 10.17    \n",
              " 3rd Qu.:  50.00    3rd Qu.:  42.00     3rd Qu.:   288   3rd Qu.: 13.00    \n",
              " Max.   :8443.00    Max.   :3800.00     Max.   :525600   Max.   :225.00    \n",
              "                    NA's   :206         NA's   :219      NA's   :231       "
            ]
          },
          "metadata": {}
        }
      ]
    },
    {
      "cell_type": "code",
      "source": [
        "sum(is.na(agro$TIPO))\n",
        "sum(is.na(agro$MUNICIPIO))\n",
        "sum(is.na(agro$CULTIVO))\n",
        "sum(is.na(agro$PERIODO))\n",
        "sum(is.na(agro$Area.Aembrada..ha.))\n",
        "sum(is.na(agro$Area.Cosechada..ha.))\n",
        "sum(is.na(agro$Produccion..t.))\n",
        "sum(is.na(agro$Rendimiento..t.ha.))"
      ],
      "metadata": {
        "colab": {
          "base_uri": "https://localhost:8080/",
          "height": 156
        },
        "id": "EVJ-bljfP8sf",
        "outputId": "51d78bea-7006-425e-c67c-b293a4700a3d"
      },
      "execution_count": null,
      "outputs": [
        {
          "output_type": "display_data",
          "data": {
            "text/html": [
              "0"
            ],
            "text/markdown": "0",
            "text/latex": "0",
            "text/plain": [
              "[1] 0"
            ]
          },
          "metadata": {}
        },
        {
          "output_type": "display_data",
          "data": {
            "text/html": [
              "0"
            ],
            "text/markdown": "0",
            "text/latex": "0",
            "text/plain": [
              "[1] 0"
            ]
          },
          "metadata": {}
        },
        {
          "output_type": "display_data",
          "data": {
            "text/html": [
              "0"
            ],
            "text/markdown": "0",
            "text/latex": "0",
            "text/plain": [
              "[1] 0"
            ]
          },
          "metadata": {}
        },
        {
          "output_type": "display_data",
          "data": {
            "text/html": [
              "0"
            ],
            "text/markdown": "0",
            "text/latex": "0",
            "text/plain": [
              "[1] 0"
            ]
          },
          "metadata": {}
        },
        {
          "output_type": "display_data",
          "data": {
            "text/html": [
              "0"
            ],
            "text/markdown": "0",
            "text/latex": "0",
            "text/plain": [
              "[1] 0"
            ]
          },
          "metadata": {}
        },
        {
          "output_type": "display_data",
          "data": {
            "text/html": [
              "206"
            ],
            "text/markdown": "206",
            "text/latex": "206",
            "text/plain": [
              "[1] 206"
            ]
          },
          "metadata": {}
        },
        {
          "output_type": "display_data",
          "data": {
            "text/html": [
              "219"
            ],
            "text/markdown": "219",
            "text/latex": "219",
            "text/plain": [
              "[1] 219"
            ]
          },
          "metadata": {}
        },
        {
          "output_type": "display_data",
          "data": {
            "text/html": [
              "231"
            ],
            "text/markdown": "231",
            "text/latex": "231",
            "text/plain": [
              "[1] 231"
            ]
          },
          "metadata": {}
        }
      ]
    },
    {
      "cell_type": "code",
      "source": [
        "install.packages('stringr')\n",
        "install.packages('readr')\n",
        "install.packages('tidyr')\n",
        "install.packages('dplyr')\n",
        "install.packages('nortest')\n",
        "install.packages('ggplot2')\n",
        "install.packages(\"nortest\")\n",
        "library(nortest)\n",
        "library(stringr)\n",
        "library(readr)\n",
        "library(tidyr)\n",
        "library(dplyr)\n",
        "library(nortest)\n",
        "library(ggplot2)"
      ],
      "metadata": {
        "colab": {
          "base_uri": "https://localhost:8080/"
        },
        "id": "42RQgxm6gLBq",
        "outputId": "4665d9a7-fbc2-4b12-da59-8d7632924720"
      },
      "execution_count": null,
      "outputs": [
        {
          "output_type": "stream",
          "name": "stderr",
          "text": [
            "Installing package into ‘/usr/local/lib/R/site-library’\n",
            "(as ‘lib’ is unspecified)\n",
            "\n",
            "Installing package into ‘/usr/local/lib/R/site-library’\n",
            "(as ‘lib’ is unspecified)\n",
            "\n",
            "Installing package into ‘/usr/local/lib/R/site-library’\n",
            "(as ‘lib’ is unspecified)\n",
            "\n",
            "Installing package into ‘/usr/local/lib/R/site-library’\n",
            "(as ‘lib’ is unspecified)\n",
            "\n",
            "Installing package into ‘/usr/local/lib/R/site-library’\n",
            "(as ‘lib’ is unspecified)\n",
            "\n",
            "Installing package into ‘/usr/local/lib/R/site-library’\n",
            "(as ‘lib’ is unspecified)\n",
            "\n",
            "Installing package into ‘/usr/local/lib/R/site-library’\n",
            "(as ‘lib’ is unspecified)\n",
            "\n",
            "\n",
            "Attaching package: ‘dplyr’\n",
            "\n",
            "\n",
            "The following objects are masked from ‘package:stats’:\n",
            "\n",
            "    filter, lag\n",
            "\n",
            "\n",
            "The following objects are masked from ‘package:base’:\n",
            "\n",
            "    intersect, setdiff, setequal, union\n",
            "\n",
            "\n"
          ]
        }
      ]
    },
    {
      "cell_type": "code",
      "source": [
        "\n",
        "#PREPROCESAMIENTO===============================================================================================\n",
        "#IMPUTACIÓN\n",
        "class(agro$Area.Cosechada..ha.)\n",
        "agro[is.na(agro$Area.Cosechada..ha.),\"Area.Cosechada..ha.\"] <- mean(agro$Area.Cosechada..ha., na.rm = TRUE)\n",
        "sum(is.na(agro$Area.Cosechada..ha.))\n",
        "\n",
        "class(agro$Produccion..t.)\n",
        "agro[is.na(agro$Produccion..t.),\"Produccion..t.\"] <- mean(agro$Produccion..t., na.rm = TRUE)\n",
        "sum(is.na(agro$Produccion..t.))\n",
        "\n",
        "class(agro$Rendimiento..t.ha.)\n",
        "agro[is.na(agro$Rendimiento..t.ha.),\"Rendimiento..t.ha.\"] <- mean(agro$Rendimiento..t.ha., na.rm = TRUE)\n",
        "sum(is.na(agro$Rendimiento..t.ha.))\n",
        "\n",
        "summary(agro)\n"
      ],
      "metadata": {
        "colab": {
          "base_uri": "https://localhost:8080/",
          "height": 364
        },
        "id": "zcpa9ANKTUS2",
        "outputId": "a0b421f6-1674-42e7-cb89-b9847c2b8faa"
      },
      "execution_count": null,
      "outputs": [
        {
          "output_type": "display_data",
          "data": {
            "text/html": [
              "'numeric'"
            ],
            "text/markdown": "'numeric'",
            "text/latex": "'numeric'",
            "text/plain": [
              "[1] \"numeric\""
            ]
          },
          "metadata": {}
        },
        {
          "output_type": "display_data",
          "data": {
            "text/html": [
              "0"
            ],
            "text/markdown": "0",
            "text/latex": "0",
            "text/plain": [
              "[1] 0"
            ]
          },
          "metadata": {}
        },
        {
          "output_type": "display_data",
          "data": {
            "text/html": [
              "'numeric'"
            ],
            "text/markdown": "'numeric'",
            "text/latex": "'numeric'",
            "text/plain": [
              "[1] \"numeric\""
            ]
          },
          "metadata": {}
        },
        {
          "output_type": "display_data",
          "data": {
            "text/html": [
              "0"
            ],
            "text/markdown": "0",
            "text/latex": "0",
            "text/plain": [
              "[1] 0"
            ]
          },
          "metadata": {}
        },
        {
          "output_type": "display_data",
          "data": {
            "text/html": [
              "'numeric'"
            ],
            "text/markdown": "'numeric'",
            "text/latex": "'numeric'",
            "text/plain": [
              "[1] \"numeric\""
            ]
          },
          "metadata": {}
        },
        {
          "output_type": "display_data",
          "data": {
            "text/html": [
              "0"
            ],
            "text/markdown": "0",
            "text/latex": "0",
            "text/plain": [
              "[1] 0"
            ]
          },
          "metadata": {}
        },
        {
          "output_type": "display_data",
          "data": {
            "text/plain": [
              "     TIPO            MUNICIPIO           CULTIVO            PERIODO         \n",
              " Length:23080       Length:23080       Length:23080       Length:23080      \n",
              " Class :character   Class :character   Class :character   Class :character  \n",
              " Mode  :character   Mode  :character   Mode  :character   Mode  :character  \n",
              "                                                                            \n",
              "                                                                            \n",
              "                                                                            \n",
              " Area.Sembrada..ha. Area.Cosechada..ha. Produccion..t.     Rendimiento..t.ha.\n",
              " Min.   :   0.00    Min.   :   0.00     Min.   :     0.0   Min.   :  0.00    \n",
              " 1st Qu.:   5.00    1st Qu.:   4.80     1st Qu.:    14.4   1st Qu.:  1.40    \n",
              " Median :  15.00    Median :  13.00     Median :    60.0   Median :  5.00    \n",
              " Mean   :  77.16    Mean   :  53.01     Mean   :  1063.9   Mean   : 10.17    \n",
              " 3rd Qu.:  50.00    3rd Qu.:  45.00     3rd Qu.:   300.0   3rd Qu.: 13.00    \n",
              " Max.   :8443.00    Max.   :3800.00     Max.   :525600.0   Max.   :225.00    "
            ]
          },
          "metadata": {}
        }
      ]
    },
    {
      "cell_type": "code",
      "source": [
        "#validación hipótesis\n",
        "#HIPOTESIS 1====================================================================================================\n",
        "#Los cultivos que se hacen de manera anual generan una gran rentabilidad en comparación con algunos que se generan de manera permanente.\n",
        "anual <- agro[which(agro$TIPO=='CULTIVOS ANUALES'),]\n",
        "sum(anual$Rendimiento..t.ha.)\n",
        "mean(anual$Rendimiento..t.ha.)\n",
        "\n",
        "permanentes <- agro[which(agro$TIPO=='CULTIVOS PERMANENTES'),]\n",
        "sum(permanentes$Rendimiento..t.ha.)\n",
        "mean(permanentes$Rendimiento..t.ha.)\n",
        "#CONCLUSIÓN\n",
        "#los cultivos permanentes son los que generan mayor rentabilidad según lo demuestra la columna rendimiento, con una media de 7.96 contra 6.47 de los cultivos anuales\n"
      ],
      "metadata": {
        "id": "ix4LKTgTUecl",
        "colab": {
          "base_uri": "https://localhost:8080/",
          "height": 86
        },
        "outputId": "2627a072-bf2e-4431-b533-e3a1ed2e6f1c"
      },
      "execution_count": null,
      "outputs": [
        {
          "output_type": "display_data",
          "data": {
            "text/html": [
              "5684.40350361066"
            ],
            "text/markdown": "5684.40350361066",
            "text/latex": "5684.40350361066",
            "text/plain": [
              "[1] 5684.404"
            ]
          },
          "metadata": {}
        },
        {
          "output_type": "display_data",
          "data": {
            "text/html": [
              "6.47426367153834"
            ],
            "text/markdown": "6.47426367153834",
            "text/latex": "6.47426367153834",
            "text/plain": [
              "[1] 6.474264"
            ]
          },
          "metadata": {}
        },
        {
          "output_type": "display_data",
          "data": {
            "text/html": [
              "41095.3152214539"
            ],
            "text/markdown": "41095.3152214539",
            "text/latex": "41095.3152214539",
            "text/plain": [
              "[1] 41095.32"
            ]
          },
          "metadata": {}
        },
        {
          "output_type": "display_data",
          "data": {
            "text/html": [
              "7.95649859079456"
            ],
            "text/markdown": "7.95649859079456",
            "text/latex": "7.95649859079456",
            "text/plain": [
              "[1] 7.956499"
            ]
          },
          "metadata": {}
        }
      ]
    },
    {
      "cell_type": "code",
      "source": [
        "#HIPOTESIS 2====================================================================================================\n",
        "#Muchos productos que son cultivados en grandes extensiones tienen un índice muy bajo de cosecha provocando que su rentabilidad disminuya significativamente.\n",
        "cultivosGrandes <- agro[which(agro$Area.Sembrada..ha. > 50),]\n",
        "\n",
        "#ANÁLISIS CORRELACION\n",
        "lillie.test(cultivosGrandes$Area.Sembrada..ha.)\n",
        "lillie.test(cultivosGrandes$Area.Cosechada..ha.)\n",
        "#las dos variables a evaluar area sembrad y area cosechada dieron un valor de p < 0.05, por lo tanto los datos NO son normales\n",
        "#entonces usamos el coeficiente de Spearman\n",
        "cor(x=cultivosGrandes$Area.Cosechada..ha., y=cultivosGrandes$Area.Sembrada..ha., method = \"spearman\")\n",
        "#el resultado es: 0.7606125, que representa una correlación significativa, como se suponía inicialmente\n",
        "\n",
        "#se crea una nueva fila llamada indice rentabilidad, que contiene el porcentaje de rentabilidad hallando cual fue el procentaje del area cosechada respecto al area cultivada de cada producto\n",
        "cultivosGrandes <- mutate(cultivosGrandes, 'indice_rentabilidad(%)'=( cultivosGrandes$Area.Cosechada..ha./cultivosGrandes$Area.Sembrada..ha.)*100)\n",
        "\n",
        "#se halla la media de esta columna para hallar un promedio de esta columna\n",
        "mean(cultivosGrandes$indice_rentabilidad)\n",
        "\n",
        "ggplot(x=cultivosGrandes$Area.Sembrada..ha., y=cultivosGrandes$Area.Cosechada..ha., col='blue' ) + labs(tittle = \"correlación A.sembrada-A.cosechada \", x = \"Área sembrada\", y = \"Área cosechada\")\n",
        "plot(x=cultivosGrandes$Area.Sembrada..ha., y=cultivosGrandes$Area.Cosechada..ha., col='blue' ) + labs(tittle = \"correlación A.sembrada-A.cosechada \", x = \"Área sembrada\", y = \"Área cosechada\")\n",
        "#CONCLUSION\n",
        "#la media es de 87% lo cual es un valor alto, es decir se rechaza la hipótesis, dado que se muestra que los cultivos en areas grandes tienen buen indice de rentabilidad, dan buenos resultados\n"
      ],
      "metadata": {
        "id": "NSC5OZroUhoC",
        "colab": {
          "base_uri": "https://localhost:8080/",
          "height": 1000
        },
        "outputId": "b19dca61-38d4-4942-cc87-ac2be1c2a452"
      },
      "execution_count": null,
      "outputs": [
        {
          "output_type": "display_data",
          "data": {
            "text/plain": [
              "\n",
              "\tLilliefors (Kolmogorov-Smirnov) normality test\n",
              "\n",
              "data:  cultivosGrandes$Area.Sembrada..ha.\n",
              "D = 0.33563, p-value < 2.2e-16\n"
            ]
          },
          "metadata": {}
        },
        {
          "output_type": "display_data",
          "data": {
            "text/plain": [
              "\n",
              "\tLilliefors (Kolmogorov-Smirnov) normality test\n",
              "\n",
              "data:  cultivosGrandes$Area.Cosechada..ha.\n",
              "D = 0.22743, p-value < 2.2e-16\n"
            ]
          },
          "metadata": {}
        },
        {
          "output_type": "display_data",
          "data": {
            "text/html": [
              "0.760612494154801"
            ],
            "text/markdown": "0.760612494154801",
            "text/latex": "0.760612494154801",
            "text/plain": [
              "[1] 0.7606125"
            ]
          },
          "metadata": {}
        },
        {
          "output_type": "display_data",
          "data": {
            "text/html": [
              "87.0423871595977"
            ],
            "text/markdown": "87.0423871595977",
            "text/latex": "87.0423871595977",
            "text/plain": [
              "[1] 87.04239"
            ]
          },
          "metadata": {}
        },
        {
          "output_type": "error",
          "ename": "ERROR",
          "evalue": "ignored",
          "traceback": [
            "Error in plot(x = cultivosGrandes$Area.Sembrada..ha., y = cultivosGrandes$Area.Cosechada..ha., : non-numeric argument to binary operator\nTraceback:\n"
          ]
        },
        {
          "output_type": "display_data",
          "data": {
            "text/plain": [
              "plot without title"
            ],
            "image/png": "[encoded data removed]"
          },
          "metadata": {
            "image/png": {
              "width": 420,
              "height": 420
            }
          }
        },
        {
          "output_type": "display_data",
          "data": {
            "text/plain": [
              "plot without title"
            ],
            "image/png": "[encoded data removed]"
          },
          "metadata": {
            "image/png": {
              "width": 420,
              "height": 420
            }
          }
        }
      ]
    },
    {
      "cell_type": "code",
      "source": [
        "ggplot(x=cultivosGrandes$Area.Sembrada..ha., y=cultivosGrandes$Area.Cosechada..ha., col='blue' ) + labs(tittle = \"correlación A.sembrada-A.cosechada \", x = \"Área sembrada\", y = \"Área cosechada\")"
      ],
      "metadata": {
        "colab": {
          "base_uri": "https://localhost:8080/",
          "height": 437
        },
        "id": "F0gEQ2V56LKf",
        "outputId": "7bd5aaa9-2af2-4c87-ba4a-8a3165dc415a"
      },
      "execution_count": null,
      "outputs": [
        {
          "output_type": "display_data",
          "data": {
            "text/plain": [
              "plot without title"
            ],
            "image/png": "[encoded data removed]"
          },
          "metadata": {
            "image/png": {
              "width": 420,
              "height": 420
            }
          }
        }
      ]
    },
    {
      "cell_type": "code",
      "source": [
        "plot(x=cultivosGrandes$Area.Sembrada..ha., y=cultivosGrandes$Area.Cosechada..ha., col='blue' ) + labs(tittle = \"correlación A.sembrada-A.cosechada \", x = \"Área sembrada\", y = \"Área cosechada\")"
      ],
      "metadata": {
        "colab": {
          "base_uri": "https://localhost:8080/",
          "height": 516
        },
        "id": "wC0zmLDf6MkI",
        "outputId": "147d2463-efb5-4d4a-9252-4411735fee84"
      },
      "execution_count": null,
      "outputs": [
        {
          "output_type": "error",
          "ename": "ERROR",
          "evalue": "ignored",
          "traceback": [
            "Error in plot(x = cultivosGrandes$Area.Sembrada..ha., y = cultivosGrandes$Area.Cosechada..ha., : non-numeric argument to binary operator\nTraceback:\n"
          ]
        },
        {
          "output_type": "display_data",
          "data": {
            "text/plain": [
              "plot without title"
            ],
            "image/png": "[encoded data removed]"
          },
          "metadata": {
            "image/png": {
              "width": 420,
              "height": 420
            }
          }
        }
      ]
    },
    {
      "cell_type": "code",
      "source": [
        "#HIPOTESIS 4====================================================================================================\n",
        "#A lo largo del año 2021 en Sogamoso, Duitama y Chiquinquirá, fueron las áreas más sembradas que se registraron.\n",
        "a2021 <- agro[which(agro$PERIODO == '2021'),]#se filtran los datos de cultivos que corresponden al año 2021\n",
        "View(a2021)\n",
        "|\n",
        "sum( a2021[which(a2021$MUNICIPIO == 'Sogamoso'),]$Area.Sembrada..ha )#se suma el area sembrada en sogamoso en el año 2021\n",
        "sum( a2021[which(a2021$MUNICIPIO == 'Duitama'),]$Area.Sembrada..ha )#se suma el area sembrada en duitama en el año 2021\n",
        "sum( a2021[which(a2021$MUNICIPIO == 'Chiquinquirá'),]$Area.Sembrada..ha )#se suma el area sembrada en Chiquinquirá en el año 2021\n",
        "\n",
        "sum( a2021[which(a2021$MUNICIPIO == 'Pajarito'),]$Area.Sembrada..ha )#se suma el area sembrada en Pajarito en el año 2021 para compararlo con los anteriores\n",
        "sum( a2021[which(a2021$MUNICIPIO == 'Moniquirá'),]$Area.Sembrada..ha )\n",
        "sum( a2021[which(a2021$MUNICIPIO == 'Miraflores'),]$Area.Sembrada..ha )\n",
        "\n",
        "mean(a2021[which(a2021$MUNICIPIO == 'Sogamoso'),]$Area.Sembrada..ha)\n",
        "mean( a2021[which(a2021$MUNICIPIO == 'Duitama'),]$Area.Sembrada..ha )\n",
        "mean( a2021[which(a2021$MUNICIPIO == 'Chiquinquirá'),]$Area.Sembrada..ha )\n",
        "\n",
        "#se halla la media del area sembrada de los municipios diferentes a Chiquinquirá, quien representó el mayor área de los tres municipios de estudio\n",
        "mean( a2021[which(a2021$MUNICIPIO != 'Chiquinquirá'),]$Area.Sembrada..ha )\n",
        "#CONCLUSIÓN\n",
        "#Sogamoso, duitama y chuiquinquirá no tuvieron la mayor cantidad de areas sembradas, uno de los que más tuvo, superando por mucho, fue Moniquirá con 4940 ha"
      ],
      "metadata": {
        "id": "NTEHV6S1UoVI",
        "colab": {
          "base_uri": "https://localhost:8080/",
          "height": 1000
        },
        "outputId": "3695a8ec-308c-48e0-d262-22715f9112fe"
      },
      "execution_count": null,
      "outputs": [
        {
          "output_type": "display_data",
          "data": {
            "text/plain": [
              "      TIPO       MUNICIPIO    CULTIVO               PERIODO Area.Sembrada..ha.\n",
              "20627 Permanente Tunja        Fresa                 2021     2                \n",
              "20628 Permanente Almeida      Café                  2021    71                \n",
              "20629 Permanente Almeida      Caña                  2021    62                \n",
              "20630 Permanente Almeida      Granadilla            2021     3                \n",
              "20631 Permanente Almeida      Lulo                  2021     7                \n",
              "20632 Permanente Aquitania    Café                  2021    75                \n",
              "20633 Permanente Aquitania    Caña                  2021    60                \n",
              "20634 Permanente Aquitania    Limón                 2021     7                \n",
              "20635 Permanente Aquitania    Fresa                 2021     8                \n",
              "20636 Permanente Aquitania    Mora                  2021     1                \n",
              "20637 Permanente Aquitania    Guayaba               2021     5                \n",
              "20638 Permanente Aquitania    Granadilla            2021     4                \n",
              "20639 Permanente Aquitania    Gulupa o cholupa      2021     2                \n",
              "20640 Permanente Aquitania    Lulo                  2021     3                \n",
              "20641 Permanente Aquitania    Tomate de árbol       2021     3                \n",
              "20642 Permanente Aquitania    Uchuva                2021     1                \n",
              "20643 Permanente Arcabuco     Arándano              2021     7                \n",
              "20644 Permanente Arcabuco     Fresa                 2021    15                \n",
              "20645 Permanente Arcabuco     Mora                  2021    93                \n",
              "20646 Permanente Arcabuco     Gulupa o cholupa      2021     6                \n",
              "20647 Permanente Arcabuco     Tomate de árbol       2021    13                \n",
              "20648 Permanente Arcabuco     Uchuva                2021    13                \n",
              "20649 Permanente Belén        Ciruela               2021     3                \n",
              "20650 Permanente Belén        Durazno o Albaricoque 2021     4                \n",
              "20651 Permanente Belén        Mora                  2021     5                \n",
              "20652 Permanente Belén        Feijoa                2021     2                \n",
              "20653 Permanente Belén        Curuba                2021     2                \n",
              "20654 Permanente Belén        Tomate de árbol       2021     4                \n",
              "20655 Permanente Belén        Uchuva                2021     7                \n",
              "20656 Permanente Berbeo       Cacao                 2021    13                \n",
              "⋮     ⋮          ⋮            ⋮                     ⋮       ⋮                 \n",
              "21444 Permanente Úmbita       Aguacate              2021       1              \n",
              "21445 Permanente Úmbita       Arándano              2021       3              \n",
              "21446 Permanente Úmbita       Fresa                 2021       3              \n",
              "21447 Permanente Úmbita       Mora                  2021      11              \n",
              "21448 Permanente Úmbita       Curuba                2021     105              \n",
              "21449 Permanente Úmbita       Granadilla            2021       3              \n",
              "21450 Permanente Úmbita       Lulo                  2021       1              \n",
              "21451 Permanente Úmbita       Tomate de árbol       2021      30              \n",
              "21452 Permanente Úmbita       Uchuva                2021      44              \n",
              "21453 Permanente Ventaquemada Ciruela               2021       3              \n",
              "21454 Permanente Ventaquemada Arándano              2021      31              \n",
              "21455 Permanente Ventaquemada Mora                  2021      16              \n",
              "21456 Permanente Ventaquemada Tomate de árbol       2021      30              \n",
              "21457 Permanente Ventaquemada Uchuva                2021     125              \n",
              "21458 Permanente Viracachá    Durazno o Albaricoque 2021       1              \n",
              "21459 Permanente Viracachá    Fresa                 2021       7              \n",
              "21460 Permanente Viracachá    Mora                  2021      19              \n",
              "21461 Permanente Viracachá    Feijoa                2021       5              \n",
              "21462 Permanente Viracachá    Lulo                  2021       2              \n",
              "21463 Permanente Viracachá    Tomate de árbol       2021      13              \n",
              "21464 Permanente Viracachá    Uchuva                2021      21              \n",
              "21465 Permanente Zetaquirá    Café                  2021    1124              \n",
              "21466 Permanente Zetaquirá    Caña                  2021     125              \n",
              "21467 Permanente Zetaquirá    Aguacate              2021       1              \n",
              "21468 Permanente Zetaquirá    Mora                  2021       5              \n",
              "21469 Permanente Zetaquirá    Pitahaya              2021      26              \n",
              "21470 Permanente Zetaquirá    Plátano               2021      30              \n",
              "21471 Permanente Zetaquirá    Granadilla            2021       5              \n",
              "21472 Permanente Zetaquirá    Gulupa o cholupa      2021      14              \n",
              "21473 Permanente Zetaquirá    Lulo                  2021       8              \n",
              "      Area.Cosechada..ha. Produccion..t. Rendimiento..t.ha.\n",
              "20627  2                     2            1                \n",
              "20628 70                    64            1                \n",
              "20629 61                  3416           56                \n",
              "20630  2                    38           19                \n",
              "20631  6                   144           24                \n",
              "20632  5                     3            1                \n",
              "20633 60                  1920           32                \n",
              "20634  1                     4            7                \n",
              "20635  8                   113           15                \n",
              "20636  0                     0            0                \n",
              "20637  3                    14            5                \n",
              "20638  4                    35           10                \n",
              "20639  2                    30           20                \n",
              "20640  0                     0            0                \n",
              "20641  1                     5           10                \n",
              "20642  1                     5           10                \n",
              "20643  5                    20            4                \n",
              "20644 15                   300           20                \n",
              "20645 93                  1395           15                \n",
              "20646  0                     0            0                \n",
              "20647 13                   260           20                \n",
              "20648 13                   156           12                \n",
              "20649  3                    13            4                \n",
              "20650  4                    36            9                \n",
              "20651  5                    22            4                \n",
              "20652  2                    30           15                \n",
              "20653  2                     7            4                \n",
              "20654  4                    19            5                \n",
              "20655  7                    20            3                \n",
              "20656  7                     3            0                \n",
              "⋮     ⋮                   ⋮              ⋮                 \n",
              "21444    0                   0            0                \n",
              "21445    2                  10            5                \n",
              "21446    2                  70           35                \n",
              "21447    9                  45            5                \n",
              "21448  103                1030           10                \n",
              "21449    2                  20           10                \n",
              "21450    1                   4            7                \n",
              "21451   27                 398           15                \n",
              "21452   34                 369           11                \n",
              "21453    2                  22           11                \n",
              "21454   20                 180            9                \n",
              "21455    8                  72            9                \n",
              "21456   20                 340           17                \n",
              "21457   40                 480           12                \n",
              "21458    1                   4            5                \n",
              "21459    5                  65           12                \n",
              "21460   12                 128           11                \n",
              "21461    4                  16            4                \n",
              "21462    1                   2            3                \n",
              "21463   10                 191           20                \n",
              "21464   11                  78            7                \n",
              "21465 1029                1070            1                \n",
              "21466  125                5000           40                \n",
              "21467    0                   0            0                \n",
              "21468    5                  35            7                \n",
              "21469    0                   0            0                \n",
              "21470   30                 420           14                \n",
              "21471    5                  68           15                \n",
              "21472   14                 238           17                \n",
              "21473    6                 108           18                "
            ],
            "text/html": [
              "<table class=\"dataframe\">\n",
              "<caption>A data.frame: 847 × 8</caption>\n",
              "<thead>\n",
              "\t<tr><th></th><th scope=col>TIPO</th><th scope=col>MUNICIPIO</th><th scope=col>CULTIVO</th><th scope=col>PERIODO</th><th scope=col>Area.Sembrada..ha.</th><th scope=col>Area.Cosechada..ha.</th><th scope=col>Produccion..t.</th><th scope=col>Rendimiento..t.ha.</th></tr>\n",
              "\t<tr><th></th><th scope=col>&lt;chr&gt;</th><th scope=col>&lt;chr&gt;</th><th scope=col>&lt;chr&gt;</th><th scope=col>&lt;chr&gt;</th><th scope=col>&lt;dbl&gt;</th><th scope=col>&lt;dbl&gt;</th><th scope=col>&lt;dbl&gt;</th><th scope=col>&lt;dbl&gt;</th></tr>\n",
              "</thead>\n",
              "<tbody>\n",
              "\t<tr><th scope=row>20627</th><td>Permanente</td><td>Tunja    </td><td>Fresa                </td><td>2021</td><td> 2</td><td> 2</td><td>   2</td><td> 1</td></tr>\n",
              "\t<tr><th scope=row>20628</th><td>Permanente</td><td>Almeida  </td><td>Café                 </td><td>2021</td><td>71</td><td>70</td><td>  64</td><td> 1</td></tr>\n",
              "\t<tr><th scope=row>20629</th><td>Permanente</td><td>Almeida  </td><td>Caña                 </td><td>2021</td><td>62</td><td>61</td><td>3416</td><td>56</td></tr>\n",
              "\t<tr><th scope=row>20630</th><td>Permanente</td><td>Almeida  </td><td>Granadilla           </td><td>2021</td><td> 3</td><td> 2</td><td>  38</td><td>19</td></tr>\n",
              "\t<tr><th scope=row>20631</th><td>Permanente</td><td>Almeida  </td><td>Lulo                 </td><td>2021</td><td> 7</td><td> 6</td><td> 144</td><td>24</td></tr>\n",
              "\t<tr><th scope=row>20632</th><td>Permanente</td><td>Aquitania</td><td>Café                 </td><td>2021</td><td>75</td><td> 5</td><td>   3</td><td> 1</td></tr>\n",
              "\t<tr><th scope=row>20633</th><td>Permanente</td><td>Aquitania</td><td>Caña                 </td><td>2021</td><td>60</td><td>60</td><td>1920</td><td>32</td></tr>\n",
              "\t<tr><th scope=row>20634</th><td>Permanente</td><td>Aquitania</td><td>Limón                </td><td>2021</td><td> 7</td><td> 1</td><td>   4</td><td> 7</td></tr>\n",
              "\t<tr><th scope=row>20635</th><td>Permanente</td><td>Aquitania</td><td>Fresa                </td><td>2021</td><td> 8</td><td> 8</td><td> 113</td><td>15</td></tr>\n",
              "\t<tr><th scope=row>20636</th><td>Permanente</td><td>Aquitania</td><td>Mora                 </td><td>2021</td><td> 1</td><td> 0</td><td>   0</td><td> 0</td></tr>\n",
              "\t<tr><th scope=row>20637</th><td>Permanente</td><td>Aquitania</td><td>Guayaba              </td><td>2021</td><td> 5</td><td> 3</td><td>  14</td><td> 5</td></tr>\n",
              "\t<tr><th scope=row>20638</th><td>Permanente</td><td>Aquitania</td><td>Granadilla           </td><td>2021</td><td> 4</td><td> 4</td><td>  35</td><td>10</td></tr>\n",
              "\t<tr><th scope=row>20639</th><td>Permanente</td><td>Aquitania</td><td>Gulupa o cholupa     </td><td>2021</td><td> 2</td><td> 2</td><td>  30</td><td>20</td></tr>\n",
              "\t<tr><th scope=row>20640</th><td>Permanente</td><td>Aquitania</td><td>Lulo                 </td><td>2021</td><td> 3</td><td> 0</td><td>   0</td><td> 0</td></tr>\n",
              "\t<tr><th scope=row>20641</th><td>Permanente</td><td>Aquitania</td><td>Tomate de árbol      </td><td>2021</td><td> 3</td><td> 1</td><td>   5</td><td>10</td></tr>\n",
              "\t<tr><th scope=row>20642</th><td>Permanente</td><td>Aquitania</td><td>Uchuva               </td><td>2021</td><td> 1</td><td> 1</td><td>   5</td><td>10</td></tr>\n",
              "\t<tr><th scope=row>20643</th><td>Permanente</td><td>Arcabuco </td><td>Arándano             </td><td>2021</td><td> 7</td><td> 5</td><td>  20</td><td> 4</td></tr>\n",
              "\t<tr><th scope=row>20644</th><td>Permanente</td><td>Arcabuco </td><td>Fresa                </td><td>2021</td><td>15</td><td>15</td><td> 300</td><td>20</td></tr>\n",
              "\t<tr><th scope=row>20645</th><td>Permanente</td><td>Arcabuco </td><td>Mora                 </td><td>2021</td><td>93</td><td>93</td><td>1395</td><td>15</td></tr>\n",
              "\t<tr><th scope=row>20646</th><td>Permanente</td><td>Arcabuco </td><td>Gulupa o cholupa     </td><td>2021</td><td> 6</td><td> 0</td><td>   0</td><td> 0</td></tr>\n",
              "\t<tr><th scope=row>20647</th><td>Permanente</td><td>Arcabuco </td><td>Tomate de árbol      </td><td>2021</td><td>13</td><td>13</td><td> 260</td><td>20</td></tr>\n",
              "\t<tr><th scope=row>20648</th><td>Permanente</td><td>Arcabuco </td><td>Uchuva               </td><td>2021</td><td>13</td><td>13</td><td> 156</td><td>12</td></tr>\n",
              "\t<tr><th scope=row>20649</th><td>Permanente</td><td>Belén    </td><td>Ciruela              </td><td>2021</td><td> 3</td><td> 3</td><td>  13</td><td> 4</td></tr>\n",
              "\t<tr><th scope=row>20650</th><td>Permanente</td><td>Belén    </td><td>Durazno o Albaricoque</td><td>2021</td><td> 4</td><td> 4</td><td>  36</td><td> 9</td></tr>\n",
              "\t<tr><th scope=row>20651</th><td>Permanente</td><td>Belén    </td><td>Mora                 </td><td>2021</td><td> 5</td><td> 5</td><td>  22</td><td> 4</td></tr>\n",
              "\t<tr><th scope=row>20652</th><td>Permanente</td><td>Belén    </td><td>Feijoa               </td><td>2021</td><td> 2</td><td> 2</td><td>  30</td><td>15</td></tr>\n",
              "\t<tr><th scope=row>20653</th><td>Permanente</td><td>Belén    </td><td>Curuba               </td><td>2021</td><td> 2</td><td> 2</td><td>   7</td><td> 4</td></tr>\n",
              "\t<tr><th scope=row>20654</th><td>Permanente</td><td>Belén    </td><td>Tomate de árbol      </td><td>2021</td><td> 4</td><td> 4</td><td>  19</td><td> 5</td></tr>\n",
              "\t<tr><th scope=row>20655</th><td>Permanente</td><td>Belén    </td><td>Uchuva               </td><td>2021</td><td> 7</td><td> 7</td><td>  20</td><td> 3</td></tr>\n",
              "\t<tr><th scope=row>20656</th><td>Permanente</td><td>Berbeo   </td><td>Cacao                </td><td>2021</td><td>13</td><td> 7</td><td>   3</td><td> 0</td></tr>\n",
              "\t<tr><th scope=row>⋮</th><td>⋮</td><td>⋮</td><td>⋮</td><td>⋮</td><td>⋮</td><td>⋮</td><td>⋮</td><td>⋮</td></tr>\n",
              "\t<tr><th scope=row>21444</th><td>Permanente</td><td>Úmbita      </td><td>Aguacate             </td><td>2021</td><td>   1</td><td>   0</td><td>   0</td><td> 0</td></tr>\n",
              "\t<tr><th scope=row>21445</th><td>Permanente</td><td>Úmbita      </td><td>Arándano             </td><td>2021</td><td>   3</td><td>   2</td><td>  10</td><td> 5</td></tr>\n",
              "\t<tr><th scope=row>21446</th><td>Permanente</td><td>Úmbita      </td><td>Fresa                </td><td>2021</td><td>   3</td><td>   2</td><td>  70</td><td>35</td></tr>\n",
              "\t<tr><th scope=row>21447</th><td>Permanente</td><td>Úmbita      </td><td>Mora                 </td><td>2021</td><td>  11</td><td>   9</td><td>  45</td><td> 5</td></tr>\n",
              "\t<tr><th scope=row>21448</th><td>Permanente</td><td>Úmbita      </td><td>Curuba               </td><td>2021</td><td> 105</td><td> 103</td><td>1030</td><td>10</td></tr>\n",
              "\t<tr><th scope=row>21449</th><td>Permanente</td><td>Úmbita      </td><td>Granadilla           </td><td>2021</td><td>   3</td><td>   2</td><td>  20</td><td>10</td></tr>\n",
              "\t<tr><th scope=row>21450</th><td>Permanente</td><td>Úmbita      </td><td>Lulo                 </td><td>2021</td><td>   1</td><td>   1</td><td>   4</td><td> 7</td></tr>\n",
              "\t<tr><th scope=row>21451</th><td>Permanente</td><td>Úmbita      </td><td>Tomate de árbol      </td><td>2021</td><td>  30</td><td>  27</td><td> 398</td><td>15</td></tr>\n",
              "\t<tr><th scope=row>21452</th><td>Permanente</td><td>Úmbita      </td><td>Uchuva               </td><td>2021</td><td>  44</td><td>  34</td><td> 369</td><td>11</td></tr>\n",
              "\t<tr><th scope=row>21453</th><td>Permanente</td><td>Ventaquemada</td><td>Ciruela              </td><td>2021</td><td>   3</td><td>   2</td><td>  22</td><td>11</td></tr>\n",
              "\t<tr><th scope=row>21454</th><td>Permanente</td><td>Ventaquemada</td><td>Arándano             </td><td>2021</td><td>  31</td><td>  20</td><td> 180</td><td> 9</td></tr>\n",
              "\t<tr><th scope=row>21455</th><td>Permanente</td><td>Ventaquemada</td><td>Mora                 </td><td>2021</td><td>  16</td><td>   8</td><td>  72</td><td> 9</td></tr>\n",
              "\t<tr><th scope=row>21456</th><td>Permanente</td><td>Ventaquemada</td><td>Tomate de árbol      </td><td>2021</td><td>  30</td><td>  20</td><td> 340</td><td>17</td></tr>\n",
              "\t<tr><th scope=row>21457</th><td>Permanente</td><td>Ventaquemada</td><td>Uchuva               </td><td>2021</td><td> 125</td><td>  40</td><td> 480</td><td>12</td></tr>\n",
              "\t<tr><th scope=row>21458</th><td>Permanente</td><td>Viracachá   </td><td>Durazno o Albaricoque</td><td>2021</td><td>   1</td><td>   1</td><td>   4</td><td> 5</td></tr>\n",
              "\t<tr><th scope=row>21459</th><td>Permanente</td><td>Viracachá   </td><td>Fresa                </td><td>2021</td><td>   7</td><td>   5</td><td>  65</td><td>12</td></tr>\n",
              "\t<tr><th scope=row>21460</th><td>Permanente</td><td>Viracachá   </td><td>Mora                 </td><td>2021</td><td>  19</td><td>  12</td><td> 128</td><td>11</td></tr>\n",
              "\t<tr><th scope=row>21461</th><td>Permanente</td><td>Viracachá   </td><td>Feijoa               </td><td>2021</td><td>   5</td><td>   4</td><td>  16</td><td> 4</td></tr>\n",
              "\t<tr><th scope=row>21462</th><td>Permanente</td><td>Viracachá   </td><td>Lulo                 </td><td>2021</td><td>   2</td><td>   1</td><td>   2</td><td> 3</td></tr>\n",
              "\t<tr><th scope=row>21463</th><td>Permanente</td><td>Viracachá   </td><td>Tomate de árbol      </td><td>2021</td><td>  13</td><td>  10</td><td> 191</td><td>20</td></tr>\n",
              "\t<tr><th scope=row>21464</th><td>Permanente</td><td>Viracachá   </td><td>Uchuva               </td><td>2021</td><td>  21</td><td>  11</td><td>  78</td><td> 7</td></tr>\n",
              "\t<tr><th scope=row>21465</th><td>Permanente</td><td>Zetaquirá   </td><td>Café                 </td><td>2021</td><td>1124</td><td>1029</td><td>1070</td><td> 1</td></tr>\n",
              "\t<tr><th scope=row>21466</th><td>Permanente</td><td>Zetaquirá   </td><td>Caña                 </td><td>2021</td><td> 125</td><td> 125</td><td>5000</td><td>40</td></tr>\n",
              "\t<tr><th scope=row>21467</th><td>Permanente</td><td>Zetaquirá   </td><td>Aguacate             </td><td>2021</td><td>   1</td><td>   0</td><td>   0</td><td> 0</td></tr>\n",
              "\t<tr><th scope=row>21468</th><td>Permanente</td><td>Zetaquirá   </td><td>Mora                 </td><td>2021</td><td>   5</td><td>   5</td><td>  35</td><td> 7</td></tr>\n",
              "\t<tr><th scope=row>21469</th><td>Permanente</td><td>Zetaquirá   </td><td>Pitahaya             </td><td>2021</td><td>  26</td><td>   0</td><td>   0</td><td> 0</td></tr>\n",
              "\t<tr><th scope=row>21470</th><td>Permanente</td><td>Zetaquirá   </td><td>Plátano              </td><td>2021</td><td>  30</td><td>  30</td><td> 420</td><td>14</td></tr>\n",
              "\t<tr><th scope=row>21471</th><td>Permanente</td><td>Zetaquirá   </td><td>Granadilla           </td><td>2021</td><td>   5</td><td>   5</td><td>  68</td><td>15</td></tr>\n",
              "\t<tr><th scope=row>21472</th><td>Permanente</td><td>Zetaquirá   </td><td>Gulupa o cholupa     </td><td>2021</td><td>  14</td><td>  14</td><td> 238</td><td>17</td></tr>\n",
              "\t<tr><th scope=row>21473</th><td>Permanente</td><td>Zetaquirá   </td><td>Lulo                 </td><td>2021</td><td>   8</td><td>   6</td><td> 108</td><td>18</td></tr>\n",
              "</tbody>\n",
              "</table>\n"
            ],
            "text/markdown": "\nA data.frame: 847 × 8\n\n| <!--/--> | TIPO &lt;chr&gt; | MUNICIPIO &lt;chr&gt; | CULTIVO &lt;chr&gt; | PERIODO &lt;chr&gt; | Area.Sembrada..ha. &lt;dbl&gt; | Area.Cosechada..ha. &lt;dbl&gt; | Produccion..t. &lt;dbl&gt; | Rendimiento..t.ha. &lt;dbl&gt; |\n|---|---|---|---|---|---|---|---|---|\n| 20627 | Permanente | Tunja     | Fresa                 | 2021 |  2 |  2 |    2 |  1 |\n| 20628 | Permanente | Almeida   | Café                  | 2021 | 71 | 70 |   64 |  1 |\n| 20629 | Permanente | Almeida   | Caña                  | 2021 | 62 | 61 | 3416 | 56 |\n| 20630 | Permanente | Almeida   | Granadilla            | 2021 |  3 |  2 |   38 | 19 |\n| 20631 | Permanente | Almeida   | Lulo                  | 2021 |  7 |  6 |  144 | 24 |\n| 20632 | Permanente | Aquitania | Café                  | 2021 | 75 |  5 |    3 |  1 |\n| 20633 | Permanente | Aquitania | Caña                  | 2021 | 60 | 60 | 1920 | 32 |\n| 20634 | Permanente | Aquitania | Limón                 | 2021 |  7 |  1 |    4 |  7 |\n| 20635 | Permanente | Aquitania | Fresa                 | 2021 |  8 |  8 |  113 | 15 |\n| 20636 | Permanente | Aquitania | Mora                  | 2021 |  1 |  0 |    0 |  0 |\n| 20637 | Permanente | Aquitania | Guayaba               | 2021 |  5 |  3 |   14 |  5 |\n| 20638 | Permanente | Aquitania | Granadilla            | 2021 |  4 |  4 |   35 | 10 |\n| 20639 | Permanente | Aquitania | Gulupa o cholupa      | 2021 |  2 |  2 |   30 | 20 |\n| 20640 | Permanente | Aquitania | Lulo                  | 2021 |  3 |  0 |    0 |  0 |\n| 20641 | Permanente | Aquitania | Tomate de árbol       | 2021 |  3 |  1 |    5 | 10 |\n| 20642 | Permanente | Aquitania | Uchuva                | 2021 |  1 |  1 |    5 | 10 |\n| 20643 | Permanente | Arcabuco  | Arándano              | 2021 |  7 |  5 |   20 |  4 |\n| 20644 | Permanente | Arcabuco  | Fresa                 | 2021 | 15 | 15 |  300 | 20 |\n| 20645 | Permanente | Arcabuco  | Mora                  | 2021 | 93 | 93 | 1395 | 15 |\n| 20646 | Permanente | Arcabuco  | Gulupa o cholupa      | 2021 |  6 |  0 |    0 |  0 |\n| 20647 | Permanente | Arcabuco  | Tomate de árbol       | 2021 | 13 | 13 |  260 | 20 |\n| 20648 | Permanente | Arcabuco  | Uchuva                | 2021 | 13 | 13 |  156 | 12 |\n| 20649 | Permanente | Belén     | Ciruela               | 2021 |  3 |  3 |   13 |  4 |\n| 20650 | Permanente | Belén     | Durazno o Albaricoque | 2021 |  4 |  4 |   36 |  9 |\n| 20651 | Permanente | Belén     | Mora                  | 2021 |  5 |  5 |   22 |  4 |\n| 20652 | Permanente | Belén     | Feijoa                | 2021 |  2 |  2 |   30 | 15 |\n| 20653 | Permanente | Belén     | Curuba                | 2021 |  2 |  2 |    7 |  4 |\n| 20654 | Permanente | Belén     | Tomate de árbol       | 2021 |  4 |  4 |   19 |  5 |\n| 20655 | Permanente | Belén     | Uchuva                | 2021 |  7 |  7 |   20 |  3 |\n| 20656 | Permanente | Berbeo    | Cacao                 | 2021 | 13 |  7 |    3 |  0 |\n| ⋮ | ⋮ | ⋮ | ⋮ | ⋮ | ⋮ | ⋮ | ⋮ | ⋮ |\n| 21444 | Permanente | Úmbita       | Aguacate              | 2021 |    1 |    0 |    0 |  0 |\n| 21445 | Permanente | Úmbita       | Arándano              | 2021 |    3 |    2 |   10 |  5 |\n| 21446 | Permanente | Úmbita       | Fresa                 | 2021 |    3 |    2 |   70 | 35 |\n| 21447 | Permanente | Úmbita       | Mora                  | 2021 |   11 |    9 |   45 |  5 |\n| 21448 | Permanente | Úmbita       | Curuba                | 2021 |  105 |  103 | 1030 | 10 |\n| 21449 | Permanente | Úmbita       | Granadilla            | 2021 |    3 |    2 |   20 | 10 |\n| 21450 | Permanente | Úmbita       | Lulo                  | 2021 |    1 |    1 |    4 |  7 |\n| 21451 | Permanente | Úmbita       | Tomate de árbol       | 2021 |   30 |   27 |  398 | 15 |\n| 21452 | Permanente | Úmbita       | Uchuva                | 2021 |   44 |   34 |  369 | 11 |\n| 21453 | Permanente | Ventaquemada | Ciruela               | 2021 |    3 |    2 |   22 | 11 |\n| 21454 | Permanente | Ventaquemada | Arándano              | 2021 |   31 |   20 |  180 |  9 |\n| 21455 | Permanente | Ventaquemada | Mora                  | 2021 |   16 |    8 |   72 |  9 |\n| 21456 | Permanente | Ventaquemada | Tomate de árbol       | 2021 |   30 |   20 |  340 | 17 |\n| 21457 | Permanente | Ventaquemada | Uchuva                | 2021 |  125 |   40 |  480 | 12 |\n| 21458 | Permanente | Viracachá    | Durazno o Albaricoque | 2021 |    1 |    1 |    4 |  5 |\n| 21459 | Permanente | Viracachá    | Fresa                 | 2021 |    7 |    5 |   65 | 12 |\n| 21460 | Permanente | Viracachá    | Mora                  | 2021 |   19 |   12 |  128 | 11 |\n| 21461 | Permanente | Viracachá    | Feijoa                | 2021 |    5 |    4 |   16 |  4 |\n| 21462 | Permanente | Viracachá    | Lulo                  | 2021 |    2 |    1 |    2 |  3 |\n| 21463 | Permanente | Viracachá    | Tomate de árbol       | 2021 |   13 |   10 |  191 | 20 |\n| 21464 | Permanente | Viracachá    | Uchuva                | 2021 |   21 |   11 |   78 |  7 |\n| 21465 | Permanente | Zetaquirá    | Café                  | 2021 | 1124 | 1029 | 1070 |  1 |\n| 21466 | Permanente | Zetaquirá    | Caña                  | 2021 |  125 |  125 | 5000 | 40 |\n| 21467 | Permanente | Zetaquirá    | Aguacate              | 2021 |    1 |    0 |    0 |  0 |\n| 21468 | Permanente | Zetaquirá    | Mora                  | 2021 |    5 |    5 |   35 |  7 |\n| 21469 | Permanente | Zetaquirá    | Pitahaya              | 2021 |   26 |    0 |    0 |  0 |\n| 21470 | Permanente | Zetaquirá    | Plátano               | 2021 |   30 |   30 |  420 | 14 |\n| 21471 | Permanente | Zetaquirá    | Granadilla            | 2021 |    5 |    5 |   68 | 15 |\n| 21472 | Permanente | Zetaquirá    | Gulupa o cholupa      | 2021 |   14 |   14 |  238 | 17 |\n| 21473 | Permanente | Zetaquirá    | Lulo                  | 2021 |    8 |    6 |  108 | 18 |\n\n",
            "text/latex": "A data.frame: 847 × 8\n\\begin{tabular}{r|llllllll}\n  & TIPO & MUNICIPIO & CULTIVO & PERIODO & Area.Sembrada..ha. & Area.Cosechada..ha. & Produccion..t. & Rendimiento..t.ha.\\\\\n  & <chr> & <chr> & <chr> & <chr> & <dbl> & <dbl> & <dbl> & <dbl>\\\\\n\\hline\n\t20627 & Permanente & Tunja     & Fresa                 & 2021 &  2 &  2 &    2 &  1\\\\\n\t20628 & Permanente & Almeida   & Café                  & 2021 & 71 & 70 &   64 &  1\\\\\n\t20629 & Permanente & Almeida   & Caña                  & 2021 & 62 & 61 & 3416 & 56\\\\\n\t20630 & Permanente & Almeida   & Granadilla            & 2021 &  3 &  2 &   38 & 19\\\\\n\t20631 & Permanente & Almeida   & Lulo                  & 2021 &  7 &  6 &  144 & 24\\\\\n\t20632 & Permanente & Aquitania & Café                  & 2021 & 75 &  5 &    3 &  1\\\\\n\t20633 & Permanente & Aquitania & Caña                  & 2021 & 60 & 60 & 1920 & 32\\\\\n\t20634 & Permanente & Aquitania & Limón                 & 2021 &  7 &  1 &    4 &  7\\\\\n\t20635 & Permanente & Aquitania & Fresa                 & 2021 &  8 &  8 &  113 & 15\\\\\n\t20636 & Permanente & Aquitania & Mora                  & 2021 &  1 &  0 &    0 &  0\\\\\n\t20637 & Permanente & Aquitania & Guayaba               & 2021 &  5 &  3 &   14 &  5\\\\\n\t20638 & Permanente & Aquitania & Granadilla            & 2021 &  4 &  4 &   35 & 10\\\\\n\t20639 & Permanente & Aquitania & Gulupa o cholupa      & 2021 &  2 &  2 &   30 & 20\\\\\n\t20640 & Permanente & Aquitania & Lulo                  & 2021 &  3 &  0 &    0 &  0\\\\\n\t20641 & Permanente & Aquitania & Tomate de árbol       & 2021 &  3 &  1 &    5 & 10\\\\\n\t20642 & Permanente & Aquitania & Uchuva                & 2021 &  1 &  1 &    5 & 10\\\\\n\t20643 & Permanente & Arcabuco  & Arándano              & 2021 &  7 &  5 &   20 &  4\\\\\n\t20644 & Permanente & Arcabuco  & Fresa                 & 2021 & 15 & 15 &  300 & 20\\\\\n\t20645 & Permanente & Arcabuco  & Mora                  & 2021 & 93 & 93 & 1395 & 15\\\\\n\t20646 & Permanente & Arcabuco  & Gulupa o cholupa      & 2021 &  6 &  0 &    0 &  0\\\\\n\t20647 & Permanente & Arcabuco  & Tomate de árbol       & 2021 & 13 & 13 &  260 & 20\\\\\n\t20648 & Permanente & Arcabuco  & Uchuva                & 2021 & 13 & 13 &  156 & 12\\\\\n\t20649 & Permanente & Belén     & Ciruela               & 2021 &  3 &  3 &   13 &  4\\\\\n\t20650 & Permanente & Belén     & Durazno o Albaricoque & 2021 &  4 &  4 &   36 &  9\\\\\n\t20651 & Permanente & Belén     & Mora                  & 2021 &  5 &  5 &   22 &  4\\\\\n\t20652 & Permanente & Belén     & Feijoa                & 2021 &  2 &  2 &   30 & 15\\\\\n\t20653 & Permanente & Belén     & Curuba                & 2021 &  2 &  2 &    7 &  4\\\\\n\t20654 & Permanente & Belén     & Tomate de árbol       & 2021 &  4 &  4 &   19 &  5\\\\\n\t20655 & Permanente & Belén     & Uchuva                & 2021 &  7 &  7 &   20 &  3\\\\\n\t20656 & Permanente & Berbeo    & Cacao                 & 2021 & 13 &  7 &    3 &  0\\\\\n\t⋮ & ⋮ & ⋮ & ⋮ & ⋮ & ⋮ & ⋮ & ⋮ & ⋮\\\\\n\t21444 & Permanente & Úmbita       & Aguacate              & 2021 &    1 &    0 &    0 &  0\\\\\n\t21445 & Permanente & Úmbita       & Arándano              & 2021 &    3 &    2 &   10 &  5\\\\\n\t21446 & Permanente & Úmbita       & Fresa                 & 2021 &    3 &    2 &   70 & 35\\\\\n\t21447 & Permanente & Úmbita       & Mora                  & 2021 &   11 &    9 &   45 &  5\\\\\n\t21448 & Permanente & Úmbita       & Curuba                & 2021 &  105 &  103 & 1030 & 10\\\\\n\t21449 & Permanente & Úmbita       & Granadilla            & 2021 &    3 &    2 &   20 & 10\\\\\n\t21450 & Permanente & Úmbita       & Lulo                  & 2021 &    1 &    1 &    4 &  7\\\\\n\t21451 & Permanente & Úmbita       & Tomate de árbol       & 2021 &   30 &   27 &  398 & 15\\\\\n\t21452 & Permanente & Úmbita       & Uchuva                & 2021 &   44 &   34 &  369 & 11\\\\\n\t21453 & Permanente & Ventaquemada & Ciruela               & 2021 &    3 &    2 &   22 & 11\\\\\n\t21454 & Permanente & Ventaquemada & Arándano              & 2021 &   31 &   20 &  180 &  9\\\\\n\t21455 & Permanente & Ventaquemada & Mora                  & 2021 &   16 &    8 &   72 &  9\\\\\n\t21456 & Permanente & Ventaquemada & Tomate de árbol       & 2021 &   30 &   20 &  340 & 17\\\\\n\t21457 & Permanente & Ventaquemada & Uchuva                & 2021 &  125 &   40 &  480 & 12\\\\\n\t21458 & Permanente & Viracachá    & Durazno o Albaricoque & 2021 &    1 &    1 &    4 &  5\\\\\n\t21459 & Permanente & Viracachá    & Fresa                 & 2021 &    7 &    5 &   65 & 12\\\\\n\t21460 & Permanente & Viracachá    & Mora                  & 2021 &   19 &   12 &  128 & 11\\\\\n\t21461 & Permanente & Viracachá    & Feijoa                & 2021 &    5 &    4 &   16 &  4\\\\\n\t21462 & Permanente & Viracachá    & Lulo                  & 2021 &    2 &    1 &    2 &  3\\\\\n\t21463 & Permanente & Viracachá    & Tomate de árbol       & 2021 &   13 &   10 &  191 & 20\\\\\n\t21464 & Permanente & Viracachá    & Uchuva                & 2021 &   21 &   11 &   78 &  7\\\\\n\t21465 & Permanente & Zetaquirá    & Café                  & 2021 & 1124 & 1029 & 1070 &  1\\\\\n\t21466 & Permanente & Zetaquirá    & Caña                  & 2021 &  125 &  125 & 5000 & 40\\\\\n\t21467 & Permanente & Zetaquirá    & Aguacate              & 2021 &    1 &    0 &    0 &  0\\\\\n\t21468 & Permanente & Zetaquirá    & Mora                  & 2021 &    5 &    5 &   35 &  7\\\\\n\t21469 & Permanente & Zetaquirá    & Pitahaya              & 2021 &   26 &    0 &    0 &  0\\\\\n\t21470 & Permanente & Zetaquirá    & Plátano               & 2021 &   30 &   30 &  420 & 14\\\\\n\t21471 & Permanente & Zetaquirá    & Granadilla            & 2021 &    5 &    5 &   68 & 15\\\\\n\t21472 & Permanente & Zetaquirá    & Gulupa o cholupa      & 2021 &   14 &   14 &  238 & 17\\\\\n\t21473 & Permanente & Zetaquirá    & Lulo                  & 2021 &    8 &    6 &  108 & 18\\\\\n\\end{tabular}\n"
          },
          "metadata": {}
        },
        {
          "output_type": "display_data",
          "data": {
            "text/html": [
              "14"
            ],
            "text/markdown": "14",
            "text/latex": "14",
            "text/plain": [
              "[1] 14"
            ]
          },
          "metadata": {}
        },
        {
          "output_type": "display_data",
          "data": {
            "text/html": [
              "77"
            ],
            "text/markdown": "77",
            "text/latex": "77",
            "text/plain": [
              "[1] 77"
            ]
          },
          "metadata": {}
        },
        {
          "output_type": "display_data",
          "data": {
            "text/html": [
              "139"
            ],
            "text/markdown": "139",
            "text/latex": "139",
            "text/plain": [
              "[1] 139"
            ]
          },
          "metadata": {}
        },
        {
          "output_type": "display_data",
          "data": {
            "text/html": [
              "298"
            ],
            "text/markdown": "298",
            "text/latex": "298",
            "text/plain": [
              "[1] 298"
            ]
          },
          "metadata": {}
        },
        {
          "output_type": "display_data",
          "data": {
            "text/html": [
              "4940"
            ],
            "text/markdown": "4940",
            "text/latex": "4940",
            "text/plain": [
              "[1] 4940"
            ]
          },
          "metadata": {}
        },
        {
          "output_type": "display_data",
          "data": {
            "text/html": [
              "1578"
            ],
            "text/markdown": "1578",
            "text/latex": "1578",
            "text/plain": [
              "[1] 1578"
            ]
          },
          "metadata": {}
        },
        {
          "output_type": "display_data",
          "data": {
            "text/html": [
              "1.75"
            ],
            "text/markdown": "1.75",
            "text/latex": "1.75",
            "text/plain": [
              "[1] 1.75"
            ]
          },
          "metadata": {}
        },
        {
          "output_type": "display_data",
          "data": {
            "text/html": [
              "7.7"
            ],
            "text/markdown": "7.7",
            "text/latex": "7.7",
            "text/plain": [
              "[1] 7.7"
            ]
          },
          "metadata": {}
        },
        {
          "output_type": "display_data",
          "data": {
            "text/html": [
              "23.1666666666667"
            ],
            "text/markdown": "23.1666666666667",
            "text/latex": "23.1666666666667",
            "text/plain": [
              "[1] 23.16667"
            ]
          },
          "metadata": {}
        },
        {
          "output_type": "display_data",
          "data": {
            "text/html": [
              "69.179548156956"
            ],
            "text/markdown": "69.179548156956",
            "text/latex": "69.179548156956",
            "text/plain": [
              "[1] 69.17955"
            ]
          },
          "metadata": {}
        }
      ]
    },
    {
      "cell_type": "code",
      "source": [
        "#HIPOTESIS 5\n",
        "#Seleccionar variables\n",
        "datos_cultivos_2017 <- agro %>%\n",
        "  select(CULTIVO, Area.Cosechada..ha., PERIODO)\n",
        "\n",
        "# Calcular el área total cosechada de todos los cultivos en el departamento en el año 2017\n",
        "area_total_2017 <- sum(datos_cultivos_2017$Area.Cosechada..ha.[datos_cultivos_2017$PERIODO == 2017])\n",
        "\n",
        "# Filtrar los datos para seleccionar solo lulo, mora y durazno en el año 2017\n",
        "datos_cultivos_lulomoradurazno_2017 <- datos_cultivos_2017 %>%\n",
        "  filter(CULTIVO %in% c(\"lulo\", \"mora\", \"durazno\"), PERIODO == 2017)\n",
        "\n",
        "# Calcular el área total cosechada de los cultivos de lulo, mora y durazno\n",
        "area_lulomoradurazno_2017 <- sum(datos_cultivos_lulomoradurazno_2017$Area.Cosechada..ha.)\n",
        "\n",
        "# Calcular el porcentaje que representan los cultivos de lulo, mora y durazno respecto al área total cosechada de todos los cultivos en el departamento en el año 2017\n",
        "porcentaje_lulomoradurazno_2017 <- (area_lulomoradurazno_2017 / area_total_2017) * 100\n",
        "porcentaje_lulomoradurazno_2017\n",
        "\n",
        "# Comparar el resultado con el valor de referencia de más del 25%\n",
        "if(porcentaje_lulomoradurazno_2017 > 25) {\n",
        "  cat(\"En el departamento los cultivos que más se registraron fueron de Lulo, mora y Durazno, representando más de un 25% de los cultivos totales en el año 2017.\")\n",
        "} else {\n",
        "  cat(\"En el departamento los cultivos que más se registraron no fueron superiores al 25%\")\n",
        "}\n",
        "\n",
        "#En conclusion, En el departamento los cultivos que más se registraron fueron de Lulo, mora y Durazno, representando más de un 25% de los cultivos totales en el año 2017"
      ],
      "metadata": {
        "id": "_T7_P5IrVeuD",
        "colab": {
          "base_uri": "https://localhost:8080/",
          "height": 52
        },
        "outputId": "f40f4ea0-9c88-46f4-8e85-1f066c4ab964"
      },
      "execution_count": null,
      "outputs": [
        {
          "output_type": "display_data",
          "data": {
            "text/html": [
              "0"
            ],
            "text/markdown": "0",
            "text/latex": "0",
            "text/plain": [
              "[1] 0"
            ]
          },
          "metadata": {}
        },
        {
          "output_type": "stream",
          "name": "stdout",
          "text": [
            "En el departamento los cultivos que más se registraron no fueron superiores al 25%"
          ]
        }
      ]
    },
    {
      "cell_type": "code",
      "source": [
        "#HIPOTESIS 6\n",
        "# Seleccionar filas correspondientes al año 2021\n",
        "data_2021 <- agro %>% filter(PERIODO == 2021)\n",
        "\n",
        "# Agrupar por cultivo y calcular el rendimiento promedio\n",
        "rendimientos_2021 <- data_2021 %>%\n",
        "  group_by(CULTIVO) %>%\n",
        "  summarize(rendimiento_promedio = mean(Rendimiento..t.ha.))\n",
        "\n",
        "# Ordenar por rendimiento promedio de mayor a menor\n",
        "rendimientos_ordenados <- rendimientos_2021 %>%\n",
        "  arrange(desc(rendimiento_promedio))\n",
        "\n",
        "# Seleccionar el rendimiento promedio de la fresa\n",
        "rendimiento_fresa <- rendimientos_ordenados %>%\n",
        "  filter(CULTIVO == \"Fresa\") %>%\n",
        "  pull(rendimiento_promedio)\n",
        "\n",
        "# Calcular el rendimiento promedio de los demás cultivos\n",
        "rendimiento_promedio_resto <- rendimientos_ordenados %>%\n",
        "  filter(CULTIVO != \"Fresa\") %>%\n",
        "  summarize(rendimiento_promedio = mean(rendimiento_promedio)) %>%\n",
        "  pull(rendimiento_promedio)\n",
        "\n",
        "# Comparar rendimientos\n",
        "if(rendimiento_fresa > rendimiento_promedio_resto) {\n",
        "  cat(\"La hipótesis es verdadera\")\n",
        "} else {\n",
        "  cat(\"La hipótesis es falsa\")\n",
        "}# Seleccionar filas correspondientes al año 2021\n",
        "data_2021 <- agro %>% filter(PERIODO == 2021)\n",
        "\n",
        "# Agrupar por cultivo y calcular el rendimiento promedio\n",
        "rendimientos_2021 <- data_2021 %>%\n",
        "  group_by(CULTIVO) %>%\n",
        "  summarize(rendimiento_promedio = mean(Rendimiento..t.ha.))\n",
        "\n",
        "# Ordenar por rendimiento promedio de mayor a menor\n",
        "rendimientos_ordenados <- rendimientos_2021 %>%\n",
        "  arrange(desc(rendimiento_promedio))\n",
        "\n",
        "# Seleccionar el rendimiento promedio de la fresa\n",
        "rendimiento_fresa <- rendimientos_ordenados %>%\n",
        "  filter(CULTIVO == \"Fresa\") %>%\n",
        "  pull(rendimiento_promedio)\n",
        "\n",
        "# Calcular el rendimiento promedio de los demás cultivos\n",
        "rendimiento_promedio_resto <- rendimientos_ordenados %>%\n",
        "  filter(CULTIVO != \"Fresa\") %>%\n",
        "  summarize(rendimiento_promedio = mean(rendimiento_promedio)) %>%\n",
        "  pull(rendimiento_promedio)\n",
        "\n",
        "# Comparar rendimientos\n",
        "if(rendimiento_fresa > rendimiento_promedio_resto) {\n",
        "  cat(\"La hipótesis es verdadera\")\n",
        "} else {\n",
        "  cat(\"La hipótesis es falsa\")\n",
        "}\n",
        "#En conclusion, los cultivos de fresa fueron los que mayor rendimiento obtuvieron respecto al resto de los cultivos en el departamento en el año 2021."
      ],
      "metadata": {
        "id": "jaOdmG3oVJLp",
        "colab": {
          "base_uri": "https://localhost:8080/"
        },
        "outputId": "96dc2489-ccb2-43d5-eef4-554e7e8f4383"
      },
      "execution_count": null,
      "outputs": [
        {
          "output_type": "stream",
          "name": "stdout",
          "text": [
            "La hipótesis es verdadera"
          ]
        }
      ]
    },
    {
      "cell_type": "code",
      "source": [
        "#HIPOTESIS 7====================================================================================================\n",
        "#Existe una correlación positiva significativa entre el área cosechada y el rendimiento de los cultivos en el departamento durante el año 2022.\n",
        "lillie.test(agro$Area.Cosechada..ha.)\n",
        "lillie.test(agro$Rendimiento..t.ha.)\n",
        "#las dos variables a evaluar area sembrada y Rendimiento dieron un valor de p < 0.05, por lo tanto los datos NO son normales\n",
        "#entonces usamos el coeficiente de Spearman\n",
        "cor(x=agro$Area.Cosechada..ha., y=agro$Rendimiento..t.ha., method = \"spearman\")\n",
        "plot(x=agro$Area.Cosechada..ha., y=agro$Rendimiento..t.ha., method = \"spearman\")\n",
        "#el resultado es: 0.0945936, que representa una correlación nula, debido posiblemente a que el rendimiento es el resultado de dividir la produccion en el área sembrada, es decir está involucrada el area cosechada, pero no depende solamente de ella, sino que interviene la producción también\n"
      ],
      "metadata": {
        "id": "xtHa6-pXSzxe",
        "colab": {
          "base_uri": "https://localhost:8080/",
          "height": 836
        },
        "outputId": "45088962-9db6-45a2-e266-afa704fbb564"
      },
      "execution_count": null,
      "outputs": [
        {
          "output_type": "display_data",
          "data": {
            "text/plain": [
              "\n",
              "\tLilliefors (Kolmogorov-Smirnov) normality test\n",
              "\n",
              "data:  agro$Area.Cosechada..ha.\n",
              "D = 0.35006, p-value < 2.2e-16\n"
            ]
          },
          "metadata": {}
        },
        {
          "output_type": "display_data",
          "data": {
            "text/plain": [
              "\n",
              "\tLilliefors (Kolmogorov-Smirnov) normality test\n",
              "\n",
              "data:  agro$Rendimiento..t.ha.\n",
              "D = 0.26142, p-value < 2.2e-16\n"
            ]
          },
          "metadata": {}
        },
        {
          "output_type": "display_data",
          "data": {
            "text/html": [
              "0.0945936095925394"
            ],
            "text/markdown": "0.0945936095925394",
            "text/latex": "0.0945936095925394",
            "text/plain": [
              "[1] 0.09459361"
            ]
          },
          "metadata": {}
        },
        {
          "output_type": "stream",
          "name": "stderr",
          "text": [
            "Warning message in plot.window(...):\n",
            "“\"method\" is not a graphical parameter”\n",
            "Warning message in plot.xy(xy, type, ...):\n",
            "“\"method\" is not a graphical parameter”\n",
            "Warning message in axis(side = side, at = at, labels = labels, ...):\n",
            "“\"method\" is not a graphical parameter”\n",
            "Warning message in axis(side = side, at = at, labels = labels, ...):\n",
            "“\"method\" is not a graphical parameter”\n",
            "Warning message in box(...):\n",
            "“\"method\" is not a graphical parameter”\n",
            "Warning message in title(...):\n",
            "“\"method\" is not a graphical parameter”\n"
          ]
        },
        {
          "output_type": "display_data",
          "data": {
            "text/plain": [
              "plot without title"
            ],
            "image/png": "[encoded data removed]"
          },
          "metadata": {
            "image/png": {
              "width": 420,
              "height": 420
            }
          }
        }
      ]
    }
  ]
}